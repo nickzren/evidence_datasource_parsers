{
 "cells": [
  {
   "cell_type": "code",
   "execution_count": 17,
   "metadata": {},
   "outputs": [],
   "source": [
    "import re\n",
    "\n",
    "from pyspark.ml import Pipeline\n",
    "from pyspark.sql import SparkSession\n",
    "import pyspark.sql.functions as F\n",
    "import sparknlp\n",
    "from sparknlp.base import *\n",
    "from sparknlp.annotator import *\n",
    "import torch\n",
    "import torch.nn as nn\n",
    "from transformers import BertModel, BertTokenizer"
   ]
  },
  {
   "cell_type": "code",
   "execution_count": 2,
   "metadata": {},
   "outputs": [],
   "source": [
    "# Initialise Spark\n",
    "\n",
    "spark = SparkSession.builder \\\n",
    "    .appName(\"Spark NLP\")\\\n",
    "    .master(\"local[4]\")\\\n",
    "    .config(\"spark.driver.memory\",\"16G\")\\\n",
    "    .config(\"spark.driver.maxResultSize\", \"0\") \\\n",
    "    .config(\"spark.kryoserializer.buffer.max\", \"2000M\")\\\n",
    "    .config(\"spark.jars.packages\", \"com.johnsnowlabs.nlp:spark-nlp_2.12:3.3.4\")\\\n",
    "    .getOrCreate()"
   ]
  },
  {
   "cell_type": "code",
   "execution_count": null,
   "metadata": {},
   "outputs": [],
   "source": [
    "# Load BERT fine tuned model\n",
    "\n",
    "class BertClassifier(nn.Module):\n",
    "    \"\"\"Bert Model for Classification Tasks.\n",
    "    \"\"\"\n",
    "    def __init__(self, freeze_bert=False):\n",
    "        \"\"\"\n",
    "        @param    bert: a BertModel object\n",
    "        @param    classifier: a torch.nn.Module classifier\n",
    "        @param    freeze_bert (bool): Set `False` to fine-tune the BERT model\n",
    "        \"\"\"\n",
    "        super(BertClassifier, self).__init__()\n",
    "        # Specify hidden size of BERT, hidden size of our classifier, and number of labels\n",
    "        D_in, H, D_out = 768, 50, 17\n",
    "\n",
    "        # Instantiate BERT model\n",
    "        self.bert = BertModel.from_pretrained('bert-base-uncased')\n",
    "\n",
    "        # Instantiate an one-layer feed-forward classifier\n",
    "        self.classifier = nn.Sequential(\n",
    "            nn.Linear(D_in, H),\n",
    "            nn.ReLU(),\n",
    "            #nn.Dropout(0.5),\n",
    "            nn.Linear(H, D_out)\n",
    "        )\n",
    "\n",
    "        # Freeze the BERT model\n",
    "        if freeze_bert:\n",
    "            for param in self.bert.parameters():\n",
    "                param.requires_grad = False\n",
    "        \n",
    "    def forward(self, input_ids, attention_mask):\n",
    "        \"\"\"\n",
    "        Feed input to BERT and the classifier to compute logits.\n",
    "        @param    input_ids (torch.Tensor): an input tensor with shape (batch_size,\n",
    "                      max_length)\n",
    "        @param    attention_mask (torch.Tensor): a tensor that hold attention mask\n",
    "                      information with shape (batch_size, max_length)\n",
    "        @return   logits (torch.Tensor): an output tensor with shape (batch_size,\n",
    "                      num_labels)\n",
    "        \"\"\"\n",
    "        # Feed input to BERT\n",
    "        outputs = self.bert(input_ids=input_ids,\n",
    "                            attention_mask=attention_mask)\n",
    "        \n",
    "        # Extract the last hidden state of the token `[CLS]` for classification task\n",
    "        last_hidden_state_cls = outputs[0][:, 0, :]\n",
    "\n",
    "        # Feed input to classifier to compute logits\n",
    "        logits = self.classifier(last_hidden_state_cls)\n",
    "\n",
    "        return logits\n",
    "\n",
    "model = torch.load('model/bert_trials.pth')\n",
    "model.eval()"
   ]
  },
  {
   "cell_type": "code",
   "execution_count": 3,
   "metadata": {},
   "outputs": [],
   "source": [
    "# Load data\n",
    "\n",
    "CHEMBL_EVIDENCE_PATH = 'data/chembl-2021-08-23.json.gz'\n",
    "\n",
    "stopReasons = (\n",
    "        spark.read.json(CHEMBL_EVIDENCE_PATH)\n",
    "\n",
    "        # Extract a test set\n",
    "        .sample(0.01)\n",
    "\n",
    "        # Extract studies with their reasons to stop\n",
    "        .withColumn('urls', F.explode('urls'))\n",
    "        .filter(F.col('urls.niceName').contains('ClinicalTrials'))\n",
    "        .withColumn('nct_id', F.element_at(F.split(F.col('urls.url'), '%22'), -2))\n",
    "        .select('nct_id', 'studyStopReason')\n",
    "        .filter(F.col('studyStopReason').isNotNull())\n",
    "        .distinct()\n",
    "    )"
   ]
  },
  {
   "cell_type": "markdown",
   "metadata": {},
   "source": [
    "## Create Pipeline\n",
    "\n",
    "What the Pipeline should consist of:\n",
    "- Document Assembler: converts the raw string to documents that Spark NLP can handle.\n",
    "- Tokenize each document with a series of constraints:\n",
    "  I have to reproduce this in SparkNLP's built-in tokenizer.\n",
    "  ```\n",
    "  encoded_sent = ( \n",
    "            BertTokenizer.from_pretrained('bert-base-uncased', do_lower_case=True)\n",
    "            .encode_plus(\n",
    "            text=text_preprocessing(sent),  # Preprocess sentence\n",
    "            add_special_tokens=True,        # Add `[CLS]` and `[SEP]`\n",
    "            max_length=MAX_LEN,             # Max length to truncate/pad\n",
    "            pad_to_max_length=True,         # Pad sentence to max length\n",
    "            #return_tensors='pt',           # Return PyTorch tensor\n",
    "            return_attention_mask=True      # Return attention mask\n",
    "    )\n",
    "  ```\n",
    "- Create DataLoader. Transformers is fed with 2 Tensors: input_ids (the id representation of each token) and attention masks (mask that identifies whether a token is made out of padding)."
   ]
  },
  {
   "cell_type": "code",
   "execution_count": 16,
   "metadata": {},
   "outputs": [],
   "source": [
    "document = (\n",
    "    DocumentAssembler()\n",
    "    .setInputCol('studyStopReason').setOutputCol('document')\n",
    ")\n",
    "\n",
    "tokenizer = Tokenizer().setInputCols('document').setOutputCol('token')"
   ]
  },
  {
   "cell_type": "code",
   "execution_count": 10,
   "metadata": {},
   "outputs": [],
   "source": [
    "pipeline = Pipeline().setStages([\n",
    "    document, tokenizer\n",
    "])\n",
    "\n",
    "model = pipeline.fit(stopReasons)"
   ]
  },
  {
   "cell_type": "code",
   "execution_count": 13,
   "metadata": {},
   "outputs": [
    {
     "data": {
      "text/plain": [
       "Row(nct_id='NCT00880373', studyStopReason='The funding withdrawal and early termination of the trial is based upon lack of suitable recruitment figures in order to reach the required trial endpoints.', document=[Row(annotatorType='document', begin=0, end=155, result='The funding withdrawal and early termination of the trial is based upon lack of suitable recruitment figures in order to reach the required trial endpoints.', metadata={'sentence': '0'}, embeddings=[])], token=[Row(annotatorType='token', begin=0, end=2, result='The', metadata={'sentence': '0'}, embeddings=[]), Row(annotatorType='token', begin=4, end=10, result='funding', metadata={'sentence': '0'}, embeddings=[]), Row(annotatorType='token', begin=12, end=21, result='withdrawal', metadata={'sentence': '0'}, embeddings=[]), Row(annotatorType='token', begin=23, end=25, result='and', metadata={'sentence': '0'}, embeddings=[]), Row(annotatorType='token', begin=27, end=31, result='early', metadata={'sentence': '0'}, embeddings=[]), Row(annotatorType='token', begin=33, end=43, result='termination', metadata={'sentence': '0'}, embeddings=[]), Row(annotatorType='token', begin=45, end=46, result='of', metadata={'sentence': '0'}, embeddings=[]), Row(annotatorType='token', begin=48, end=50, result='the', metadata={'sentence': '0'}, embeddings=[]), Row(annotatorType='token', begin=52, end=56, result='trial', metadata={'sentence': '0'}, embeddings=[]), Row(annotatorType='token', begin=58, end=59, result='is', metadata={'sentence': '0'}, embeddings=[]), Row(annotatorType='token', begin=61, end=65, result='based', metadata={'sentence': '0'}, embeddings=[]), Row(annotatorType='token', begin=67, end=70, result='upon', metadata={'sentence': '0'}, embeddings=[]), Row(annotatorType='token', begin=72, end=75, result='lack', metadata={'sentence': '0'}, embeddings=[]), Row(annotatorType='token', begin=77, end=78, result='of', metadata={'sentence': '0'}, embeddings=[]), Row(annotatorType='token', begin=80, end=87, result='suitable', metadata={'sentence': '0'}, embeddings=[]), Row(annotatorType='token', begin=89, end=99, result='recruitment', metadata={'sentence': '0'}, embeddings=[]), Row(annotatorType='token', begin=101, end=107, result='figures', metadata={'sentence': '0'}, embeddings=[]), Row(annotatorType='token', begin=109, end=110, result='in', metadata={'sentence': '0'}, embeddings=[]), Row(annotatorType='token', begin=112, end=116, result='order', metadata={'sentence': '0'}, embeddings=[]), Row(annotatorType='token', begin=118, end=119, result='to', metadata={'sentence': '0'}, embeddings=[]), Row(annotatorType='token', begin=121, end=125, result='reach', metadata={'sentence': '0'}, embeddings=[]), Row(annotatorType='token', begin=127, end=129, result='the', metadata={'sentence': '0'}, embeddings=[]), Row(annotatorType='token', begin=131, end=138, result='required', metadata={'sentence': '0'}, embeddings=[]), Row(annotatorType='token', begin=140, end=144, result='trial', metadata={'sentence': '0'}, embeddings=[]), Row(annotatorType='token', begin=146, end=154, result='endpoints', metadata={'sentence': '0'}, embeddings=[]), Row(annotatorType='token', begin=155, end=155, result='.', metadata={'sentence': '0'}, embeddings=[])])"
      ]
     },
     "execution_count": 13,
     "metadata": {},
     "output_type": "execute_result"
    }
   ],
   "source": [
    "model.transform(stopReasons).first()"
   ]
  },
  {
   "cell_type": "markdown",
   "metadata": {},
   "source": [
    "### Problem: you cannot add custom tokenizers to the pipeline. It'll have to be more manual"
   ]
  },
  {
   "cell_type": "code",
   "execution_count": null,
   "metadata": {},
   "outputs": [],
   "source": [
    "bert_tokenizer = BertTokenizer.from_pretrained('bert-base-uncased', do_lower_case=True)\n",
    "\n",
    "def clean_sentence(sentece:str) -> str:\n",
    "    \"\"\"\n",
    "    - Remove entity mentions (eg. '@united')\n",
    "    - Correct errors (eg. '&amp;' to '&')\n",
    "    @param    text (str): a string to be processed.\n",
    "    @return   text (Str): the processed string.\n",
    "    \"\"\"\n",
    "    # Remove '@name'\n",
    "    sentece = re.sub(r'(@.*?)[\\s]', ' ', sentece)\n",
    "\n",
    "    # Replace '&amp;' with '&'\n",
    "    sentece = re.sub(r'&amp;', '&', sentece)\n",
    "\n",
    "    # Remove trailing whitespace\n",
    "    sentece = re.sub(r'\\s+', ' ', sentece).strip()\n",
    "\n",
    "    return sentece\n",
    "\n",
    "def apply_bert_tokenizer(sentence:str, bert_tokenizer, max_len:int==64):\n",
    "\n",
    "    cleaned_sentence = clean_sentence(sentence)\n",
    "\n",
    "    return ( \n",
    "        bert_tokenizer\n",
    "        .encode_plus(\n",
    "        text=cleaned_sentence,  # Preprocess sentence\n",
    "        add_special_tokens=True,        # Add `[CLS]` and `[SEP]`\n",
    "        max_length=max_len,             # Max length to truncate/pad\n",
    "        pad_to_max_length=True,         # Pad sentence to max length\n",
    "        return_tensors='pt',           # Return PyTorch tensor\n",
    "        return_attention_mask=True      # Return attention mask\n",
    "    ))"
   ]
  },
  {
   "cell_type": "code",
   "execution_count": null,
   "metadata": {},
   "outputs": [],
   "source": []
  },
  {
   "cell_type": "markdown",
   "metadata": {},
   "source": []
  },
  {
   "cell_type": "markdown",
   "metadata": {},
   "source": []
  }
 ],
 "metadata": {
  "interpreter": {
   "hash": "f4b6dc36c032161cfa2dcc93f31fcb0bfb11bc6fea6f0772b15a0710e4778680"
  },
  "kernelspec": {
   "display_name": "Python 3.7.9 64-bit ('base': conda)",
   "language": "python",
   "name": "python3"
  },
  "language_info": {
   "codemirror_mode": {
    "name": "ipython",
    "version": 3
   },
   "file_extension": ".py",
   "mimetype": "text/x-python",
   "name": "python",
   "nbconvert_exporter": "python",
   "pygments_lexer": "ipython3",
   "version": "3.7.9"
  },
  "orig_nbformat": 4
 },
 "nbformat": 4,
 "nbformat_minor": 2
}
